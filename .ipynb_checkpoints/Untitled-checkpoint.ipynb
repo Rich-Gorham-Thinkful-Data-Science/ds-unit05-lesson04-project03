{
 "cells": [
  {
   "cell_type": "markdown",
   "metadata": {},
   "source": [
    "## Self Report Pro's and Con's"
   ]
  },
  {
   "cell_type": "markdown",
   "metadata": {},
   "source": [
    "Popularity of various Uber drivers. - answer with survey after each transaction"
   ]
  },
  {
   "cell_type": "markdown",
   "metadata": {},
   "source": [
    "A grocery store wants to know how much people like strawberry, chocolate, and vanilla ice cream. - answer with relative purchase data."
   ]
  },
  {
   "cell_type": "markdown",
   "metadata": {},
   "source": [
    "Trojan wants to know whether their condoms are more popular among straight people or gay people. - answer with survey; be aware of issues of under reporting of sexuality."
   ]
  },
  {
   "cell_type": "markdown",
   "metadata": {},
   "source": [
    "Recently, rental rates for HappyCars have increased by 30%, which is quite unusual. You want to find out why this is happening and how to keep the increase going. - Answer with survey, combine with other data."
   ]
  },
  {
   "cell_type": "markdown",
   "metadata": {},
   "source": [
    "Assessing the success rate of a new advertising campaign. - answer with sales data by group."
   ]
  },
  {
   "cell_type": "markdown",
   "metadata": {},
   "source": [
    "Measuring the effect of nurse/patient ratio on patient recovery rates in hospital wards. - answer with actual data."
   ]
  },
  {
   "cell_type": "code",
   "execution_count": null,
   "metadata": {},
   "outputs": [],
   "source": []
  }
 ],
 "metadata": {
  "kernelspec": {
   "display_name": "Python 3",
   "language": "python",
   "name": "python3"
  },
  "language_info": {
   "codemirror_mode": {
    "name": "ipython",
    "version": 3
   },
   "file_extension": ".py",
   "mimetype": "text/x-python",
   "name": "python",
   "nbconvert_exporter": "python",
   "pygments_lexer": "ipython3",
   "version": "3.6.7"
  }
 },
 "nbformat": 4,
 "nbformat_minor": 2
}
